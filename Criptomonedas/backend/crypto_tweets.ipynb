{
 "cells": [
  {
   "cell_type": "code",
   "execution_count": 2,
   "metadata": {},
   "outputs": [],
   "source": [
    "import csv\n",
    "import nest_asyncio\n",
    "import twint\n",
    "import requests\n",
    "from models import *\n",
    "from pymongo import MongoClient\n",
    "from pycoingecko import CoinGeckoAPI\n",
    "from datetime import datetime, timezone"
   ]
  },
  {
   "cell_type": "markdown",
   "metadata": {},
   "source": [
    "### Conectar con MongoDB"
   ]
  },
  {
   "cell_type": "code",
   "execution_count": 3,
   "metadata": {},
   "outputs": [],
   "source": [
    "mongo = MongoClient('localhost:27017')\n",
    "\n",
    "db = mongo.proyectoBigData"
   ]
  },
  {
   "cell_type": "markdown",
   "metadata": {},
   "source": [
    "### Inicializar CoinGecko API Wrapper"
   ]
  },
  {
   "cell_type": "code",
   "execution_count": 3,
   "metadata": {},
   "outputs": [],
   "source": [
    "cg = CoinGeckoAPI()"
   ]
  },
  {
   "cell_type": "markdown",
   "metadata": {},
   "source": [
    "### Recuperar id, nombre y abreviación de las criptomonedas disponibles"
   ]
  },
  {
   "cell_type": "code",
   "execution_count": 4,
   "metadata": {
    "scrolled": false
   },
   "outputs": [
    {
     "name": "stdout",
     "output_type": "stream",
     "text": [
      "7958 Criptomoneadas registradas en DB\n"
     ]
    }
   ],
   "source": [
    "criptocurrency_list = cg.get_coins_list()\n",
    "\n",
    "db.criptomonedas.insert_many(criptocurrency_list)\n",
    "\n",
    "print(f'{len(criptocurrency_list)} Criptomoneadas registradas en DB')"
   ]
  },
  {
   "cell_type": "markdown",
   "metadata": {},
   "source": [
    "### Recuperar historial de precios, capitalización de mercado y volumen de las criptomonedas seleccionadas"
   ]
  },
  {
   "cell_type": "code",
   "execution_count": null,
   "metadata": {},
   "outputs": [],
   "source": [
    "# Definimos los tokens a buscar\n",
    "token_list = [\"bitcoin\", \"dogecoin\", \"ethereum\"]\n",
    "\n",
    "# Fecha desde la que se comienza a buscar\n",
    "from_date = datetime(2020, 1, 1)\n",
    "\n",
    "days_ago = (datetime.now() - from_date).days\n",
    "\n",
    "# intervalo entre cada recuperación de datos\n",
    "time_interval = 'daily'\n",
    "\n",
    "# moneda fíat con la que comparar el valor de las criptomonedas a buscar\n",
    "moneda_comparacion = 'usd'\n",
    "\n",
    "for token in token_list:\n",
    "    \n",
    "    # Recuperar historial de la criptomoneda\n",
    "    historial = cg.get_coin_market_chart_by_id(id=token, vs_currency=moneda_comparacion,\n",
    "                                               days=days_ago, interval=time_interval)\n",
    "    \n",
    "    # Histórico precios\n",
    "    price_list = [vars(Precio(token, x[1], datetime.fromtimestamp(x[0] / 1000, timezone.utc)))\n",
    "                  for x in  historial['prices']]\n",
    "    \n",
    "    db.priceHistory.insert_many(price_list)\n",
    "    \n",
    "    # Histórico de capitalización de mercado\n",
    "    market_cap_list = [vars(MarketCap(token, x[1], datetime.fromtimestamp(x[0] / 1000, timezone.utc)))\n",
    "                       for x in  historial['market_caps']]\n",
    "    \n",
    "    db.marketCapHistory.insert_many(market_cap_list)\n",
    "    \n",
    "    # Histórico de volumen de negociación\n",
    "    volume_list = [vars(Volume(token, x[1], datetime.fromtimestamp(x[0] / 1000, timezone.utc)))\n",
    "                   for x in  historial['total_volumes']]\n",
    "    \n",
    "    db.volumeHistory.insert_many(volume_list)\n",
    "\n",
    "    print(f'{len(price_list)} registros históricos de {token} insertados en DB')\n"
   ]
  },
  {
   "cell_type": "markdown",
   "source": [
    "### Recuperar datos para grafico de velas de criptomonedas"
   ],
   "metadata": {
    "collapsed": false
   }
  },
  {
   "cell_type": "code",
   "execution_count": 9,
   "outputs": [],
   "source": [
    "# Definimos los tokens a buscar\n",
    "candle_token_list = [\"USDT_BTC\", \"USDT_DOGE\", \"USDT_ETH\"]\n",
    "\n",
    "from_date_timestamp = int(datetime(2020, 1, 1).timestamp())\n",
    "\n",
    "today_timestamp = int(datetime.today().timestamp())\n",
    "\n",
    "for token in candle_token_list:\n",
    "    # Recuperamos los datos de grafico de vela\n",
    "\n",
    "    params = {'command': 'returnChartData',\n",
    "             'currencyPair': token,\n",
    "             'start': from_date_timestamp,\n",
    "             'end': today_timestamp,\n",
    "             'period': '86400'\n",
    "             }\n",
    "\n",
    "    r = requests.get(url = 'https://poloniex.com/public', params= params)\n",
    "\n",
    "    candle_data = []\n",
    "\n",
    "    for x in r.json():\n",
    "        x.update({'date': datetime.fromtimestamp(x['date'], timezone.utc)})\n",
    "        candle_data.append(x)\n",
    "\n",
    "    collection_name = token + '_candle'\n",
    "\n",
    "    collection = db[collection_name]\n",
    "    # Guardamos en db\n",
    "    collection.insert_many(candle_data)\n"
   ],
   "metadata": {
    "collapsed": false,
    "pycharm": {
     "name": "#%%\n"
    }
   }
  },
  {
   "cell_type": "markdown",
   "metadata": {},
   "source": [
    "### Recuperar tweets relacionados a criptomonedas"
   ]
  },
  {
   "cell_type": "code",
   "execution_count": null,
   "metadata": {},
   "outputs": [],
   "source": [
    "nest_asyncio.apply()\n",
    "\n",
    "# Lista de palabras a buscar\n",
    "keywords = [\n",
    "        \"cripto\",\n",
    "        \"criptomoneda\",\n",
    "        \"criptomonedas\",\n",
    "        \"crypto\",\n",
    "        \"cryptocurrency\",\n",
    "        \"cryptocurrencies\",\n",
    "        \"bitcoin\",\n",
    "        \"BTC\",\n",
    "        \"$BTC\",\n",
    "        \"ethereum\",\n",
    "        \"ETH\",\n",
    "        \"$ETH\",\n",
    "        \"dogecoin\",\n",
    "        \"DOGE\",\n",
    "        \"$DOGE\",\n",
    "    ]\n",
    "\n",
    "# Inicializamos el scraper de Twitter\n",
    "config = twint.Config()\n",
    "\n",
    "# Excluimos retweets de la búsqueda\n",
    "config.Retweets = False\n",
    "\n",
    "# Mínimo de likes que deba tener un tweet para ser recuperado\n",
    "config.Min_likes = 100\n",
    "\n",
    "# Fecha de inicio de recuperación de tweets\n",
    "config.Since = '2020-01-01'\n",
    "\n",
    "config.Hide_output = True\n",
    "config.Store_object = True\n",
    "\n",
    "lista_tweets = []\n",
    "\n",
    "for word in keywords:\n",
    "\n",
    "    # Seleccionamos la palabra clave a buscar\n",
    "    config.Search = word\n",
    "    \n",
    "    # Realizamos la búsqueda\n",
    "    twint.run.Search(config)\n",
    "    \n",
    "    # Recuperamos los resultados\n",
    "    tweets = twint.output.tweets_list\n",
    "    \n",
    "    # Procesamos los resultados\n",
    "    tweets_clean = [vars(Tweet(x.id, x.tweet, x.hashtags, x.cashtags,\n",
    "                               datetime.strptime(x.datestamp + x.timestamp + x.timezone, '%Y-%m-%d%H:%M:%S%z'),\n",
    "                               x.username, x.name, x.link, word, x.likes_count, x.retweets_count, x.replies_count)) for x in tweets]\n",
    "\n",
    "    lista_tweets.extend(tweets_clean)\n",
    "\n",
    "    # Añadimos a la lista de resultados\n",
    "    print(f'{len(tweets_clean)} tweets con la keyword {word} registrados en DB')\n",
    "\n",
    "# Guardamos en mongo\n",
    "db.tweetsCripto.insert_many(lista_tweets)\n",
    "\n",
    "print(f'{len(lista_tweets)} tweets registrados en DB')"
   ]
  },
  {
   "cell_type": "markdown",
   "source": [
    "### Query en MongoDB para obtener tweets sin repeticiones\n",
    "\n",
    "```\n",
    "db.tweetsCripto.aggregate([{\n",
    "    $group: {\n",
    "        _id: {\n",
    "            id: \"$id\"\n",
    "        },\n",
    "        cashtag: {\n",
    "            $first: \"$cashtag\"\n",
    "        },\n",
    "        fecha: {\n",
    "            $first: \"$fecha\"\n",
    "        },\n",
    "        hashtag: {\n",
    "            $first: \"$hashtag\"\n",
    "        },\n",
    "        likes: {\n",
    "            $first: \"$likes\"\n",
    "        },\n",
    "        link: {\n",
    "            $first: \"$link\"\n",
    "        },\n",
    "        name: {\n",
    "            $first: \"$name\"\n",
    "        },\n",
    "        replies: {\n",
    "            $first: \"$replies\"\n",
    "        },\n",
    "        retweets: {\n",
    "            $first: \"$retweets\"\n",
    "        },\n",
    "        tweet: {\n",
    "            $first: \"$tweet\"\n",
    "        },\n",
    "        user: {\n",
    "            $first: \"$user\"\n",
    "        },\n",
    "        search_keywords: {\n",
    "            $addToSet: \"$search\"\n",
    "        },\n",
    "        count: {\n",
    "            $sum: 1\n",
    "        }\n",
    "    }\n",
    "}])\n",
    "```"
   ],
   "metadata": {
    "collapsed": false
   }
  },
  {
   "cell_type": "code",
   "execution_count": 7,
   "outputs": [
    {
     "name": "stdout",
     "output_type": "stream",
     "text": [
      "{'_id': ' To the Members and Staff of the United States Senate  SEC to bulldoze one of the core innovations of the technology   #XRP has been under a bewilderingly persistent enforcement threat by the SEC  throughout Chairman Jay Clayton’s tenure  https://t.co/DqAG0dtaIk', 'cashtag': 'bankxrp', 'count': None, 'fecha': None, 'hashtag': None, 'likes': None, 'link': None, 'name': None, 'replies': None, 'retweets': None, 'search_keywords': None, 'tweet': None, 'user': None}\n",
      "{'_id': 'Follow +RT my post. Have a nice day all my love !!!! &lt;3   #crypto #cryptotrade #giveaway #giveaways #giveawayalert', 'cashtag': 'jenniferegrant1', 'count': None, 'fecha': None, 'hashtag': None, 'likes': None, 'link': None, 'name': None, 'replies': None, 'retweets': None, 'search_keywords': None, 'tweet': None, 'user': None}\n"
     ]
    },
    {
     "name": "stderr",
     "output_type": "stream",
     "text": [
      "IOPub data rate exceeded.\n",
      "The notebook server will temporarily stop sending output\n",
      "to the client in order to avoid crashing it.\n",
      "To change this limit, set the config variable\n",
      "`--NotebookApp.iopub_data_rate_limit`.\n",
      "\n",
      "Current values:\n",
      "NotebookApp.iopub_data_rate_limit=1000000.0 (bytes/sec)\n",
      "NotebookApp.rate_limit_window=3.0 (secs)\n",
      "\n"
     ]
    },
    {
     "name": "stdout",
     "output_type": "stream",
     "text": [
      "77549 tweets coincidentes con cambios significativos en precios registrados\n"
     ]
    }
   ],
   "source": [
    "keywords = [ [\"bitcoin\", [\"bitcoin\",\"BTC\"]],\n",
    "             [\"ethereum\", [\"ethereum\",\"ETH\"]],\n",
    "             [\"dogecoin\", [\"dogecoin\",\"DOGE\"]]\n",
    "            ]\n",
    "\n",
    "results = []\n",
    "\n",
    "with open('tweets_result.csv', encoding=\"utf8\") as File:\n",
    "    reader = csv.DictReader(File)\n",
    "    for row in reader:\n",
    "        try:\n",
    "            row.update({'fecha': datetime.strptime(row['fecha'], '%Y-%m-%dT%H:%M:%S.%f%z')})\n",
    "            results.append(row)\n",
    "        except (TypeError, ValueError) as err:\n",
    "            print(row)\n",
    "\n",
    "cryptocurrency_variation = []\n",
    "\n",
    "tweet_cryptocurrency_variation = []\n",
    "\n",
    "# Fila anterior iterada\n",
    "cryptocurrencies_above = 0\n",
    "\n",
    "for x in db.priceHistory.find():\n",
    "    if cryptocurrencies_above != 0:\n",
    "        # variacion del precio promedio de criptomoneda en 24hs\n",
    "        variation = ((x['precio'] - cryptocurrencies_above)/cryptocurrencies_above)*100\n",
    "\n",
    "        x_variation = {\n",
    "                'id_criptomoneda':x['id_criptomoneda'],\n",
    "                'precio': x['precio'],\n",
    "                'fecha': x['fecha'],\n",
    "                'percentage_variation': variation\n",
    "            }\n",
    "\n",
    "        if variation >= 5:\n",
    "            x_variation.update(type_variation='mayor al 5 %', type_code=1)\n",
    "\n",
    "        if -5 < variation < 5:\n",
    "            x_variation.update(type_variation='entre -5% y 5%', type_code=0)\n",
    "\n",
    "        if variation <=  -5:\n",
    "            x_variation.update(type_variation='menor al -5 %', type_code=-1)\n",
    "\n",
    "        cryptocurrency_variation.append(x_variation)\n",
    "\n",
    "        # Si la variacion es mayor a -+5%\n",
    "        if x_variation['type_code'] != 0:\n",
    "\n",
    "            # Buscamos en todos los tweets\n",
    "            for row in results:\n",
    "\n",
    "                diferencia_fecha = x['fecha'] - row['fecha'].replace(tzinfo=None)\n",
    "\n",
    "                # Si ocurrió dentro de los dos días anteriores a la variación de precio\n",
    "                if 0 < diferencia_fecha.days < 2:\n",
    "\n",
    "                    tweet_variaton = {\n",
    "                        'id_tweet': row['_id'],\n",
    "                        'fecha_tweet': row['fecha'],\n",
    "                        'link_tweet': row['link'],\n",
    "                        'userName_tweet': row['name'],\n",
    "                        'user_tweet': row['user'],\n",
    "                        'content_tweet': row['tweet'],\n",
    "                        'hashtag_tweet': row['hashtag'],\n",
    "                        'cashtag_tweet': row['cashtag'],\n",
    "                        'likes': row['likes'],\n",
    "                        'retweets': row['retweets'],\n",
    "                        'replies': row['replies'],\n",
    "                        'search_keywords' : row['search_keywords'],\n",
    "                    }\n",
    "\n",
    "                    # Buscamos si el tweet coincide con alguna criptomoneda\n",
    "\n",
    "                    for pair in keywords:\n",
    "                        token = pair[0]\n",
    "                        keyword_list = pair[1]\n",
    "\n",
    "                        if x['id_criptomoneda'] == token:\n",
    "                            if any((keyword.upper() in row['tweet'].upper() or\n",
    "                                    (keyword.lower() in row['hashtag']) or\n",
    "                                    (keyword.lower() in row['cashtag'])) for keyword in keyword_list):\n",
    "\n",
    "                                tweet_variaton.update({\n",
    "                                    'id_criptomoneda':x['id_criptomoneda'],\n",
    "                                    'percentage_variation': variation,\n",
    "                                    'type_code_variaton':x_variation['type_code'],\n",
    "                                    })\n",
    "                                break\n",
    "\n",
    "                    if 'id_criptomoneda' in tweet_variaton:\n",
    "                        tweet_cryptocurrency_variation.append(tweet_variaton)\n",
    "\n",
    "    cryptocurrencies_above = x['precio']\n",
    "\n",
    "# Guardamos registros de variaciones en el precio de la criptomoneda\n",
    "db.criptocurrencyVariation.insert_many(cryptocurrency_variation)\n",
    "\n",
    "# Guardamos tweets que coincidan con las variaciones\n",
    "db.tweet_cryptocurrency_variation.insert_many(tweet_cryptocurrency_variation)\n",
    "\n",
    "print(f'{len(tweet_cryptocurrency_variation)} tweets coincidentes con cambios significativos en precios registrados')"
   ],
   "metadata": {
    "collapsed": false,
    "pycharm": {
     "name": "#%%\n"
    }
   }
  }
 ],
 "metadata": {
  "kernelspec": {
   "display_name": "Python 3",
   "language": "python",
   "name": "python3"
  },
  "language_info": {
   "codemirror_mode": {
    "name": "ipython",
    "version": 3
   },
   "file_extension": ".py",
   "mimetype": "text/x-python",
   "name": "python",
   "nbconvert_exporter": "python",
   "pygments_lexer": "ipython3",
   "version": "3.9.0"
  }
 },
 "nbformat": 4,
 "nbformat_minor": 1
}