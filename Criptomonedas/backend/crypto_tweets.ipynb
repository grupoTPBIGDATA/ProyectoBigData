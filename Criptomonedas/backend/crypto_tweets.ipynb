{
 "cells": [
  {
   "cell_type": "code",
   "execution_count": 1,
   "metadata": {},
   "outputs": [],
   "source": [
    "import nest_asyncio\n",
    "import twint\n",
    "from models import *\n",
    "from pymongo import MongoClient\n",
    "from pycoingecko import CoinGeckoAPI\n",
    "from datetime import datetime, timezone"
   ]
  },
  {
   "cell_type": "markdown",
   "metadata": {},
   "source": [
    "### Conectar con MongoDB"
   ]
  },
  {
   "cell_type": "code",
   "execution_count": 2,
   "metadata": {},
   "outputs": [],
   "source": [
    "mongo = MongoClient('8.tcp.ngrok.io:11181')\n",
    "\n",
    "db = mongo.proyectoBigData"
   ]
  },
  {
   "cell_type": "markdown",
   "metadata": {},
   "source": [
    "### Inicializar CoinGecko API Wrapper"
   ]
  },
  {
   "cell_type": "code",
   "execution_count": 3,
   "metadata": {},
   "outputs": [],
   "source": [
    "cg = CoinGeckoAPI()"
   ]
  },
  {
   "cell_type": "markdown",
   "metadata": {},
   "source": [
    "### Recuperar id, nombre y abreviación de las criptomonedas disponibles"
   ]
  },
  {
   "cell_type": "code",
   "execution_count": 4,
   "metadata": {
    "scrolled": false
   },
   "outputs": [
    {
     "name": "stdout",
     "output_type": "stream",
     "text": [
      "7863 Criptomoneadas registradas en DB\n"
     ]
    }
   ],
   "source": [
    "criptocurrency_list = cg.get_coins_list()\n",
    "\n",
    "db.criptomonedas.insert_many(criptocurrency_list)\n",
    "\n",
    "print(f'{len(criptocurrency_list)} Criptomoneadas registradas en DB')"
   ]
  },
  {
   "cell_type": "markdown",
   "metadata": {},
   "source": [
    "### Recuperar historial de precios, capitalización de mercado y volumen de las criptomonedas seleccionadas"
   ]
  },
  {
   "cell_type": "code",
   "execution_count": 5,
   "metadata": {},
   "outputs": [
    {
     "name": "stdout",
     "output_type": "stream",
     "text": [
      "527 registros históricos de bitcoin insertados en DB\n",
      "527 registros históricos de dogecoin insertados en DB\n",
      "527 registros históricos de ethereum insertados en DB\n"
     ]
    }
   ],
   "source": [
    "# Definimos los tokens a buscar\n",
    "token_list = [\"bitcoin\", \"dogecoin\", \"ethereum\"]\n",
    "\n",
    "# Fecha desde la que se comienza a buscar\n",
    "from_date = datetime(2020, 1, 1)\n",
    "\n",
    "days_ago = (datetime.now() - from_date).days\n",
    "\n",
    "# intervalo entre cada recuperación de datos\n",
    "time_interval = 'daily'\n",
    "\n",
    "# moneda fíat con la que comparar el valor de las criptomonedas a buscar\n",
    "moneda_comparacion = 'usd'\n",
    "\n",
    "for token in token_list:\n",
    "    \n",
    "    # Recuperar historial de la criptomoneda\n",
    "    historial = cg.get_coin_market_chart_by_id(id=token, vs_currency=moneda_comparacion,\n",
    "                                               days=days_ago, interval=time_interval)\n",
    "    \n",
    "    # Histórico precios\n",
    "    price_list = [vars(Precio(token, x[1], datetime.fromtimestamp(x[0] / 1000, timezone.utc)))\n",
    "                  for x in  historial['prices']]\n",
    "    \n",
    "    db.priceHistory.insert_many(price_list)\n",
    "    \n",
    "    # Histórico de capitalización de mercado\n",
    "    market_cap_list = [vars(MarketCap(token, x[1], datetime.fromtimestamp(x[0] / 1000, timezone.utc)))\n",
    "                       for x in  historial['market_caps']]\n",
    "    \n",
    "    db.marketCapHistory.insert_many(market_cap_list)\n",
    "    \n",
    "    # Histórico de volumen de negociación\n",
    "    volume_list = [vars(Volume(token, x[1], datetime.fromtimestamp(x[0] / 1000, timezone.utc)))\n",
    "                   for x in  historial['total_volumes']]\n",
    "    \n",
    "    db.volumeHistory.insert_many(volume_list)\n",
    "\n",
    "    print(f'{len(price_list)} registros históricos de {token} insertados en DB')"
   ]
  },
  {
   "cell_type": "markdown",
   "metadata": {},
   "source": [
    "### Recuperar tweets relacionados a criptomonedas"
   ]
  },
  {
   "cell_type": "code",
   "execution_count": 6,
   "metadata": {},
   "outputs": [
    {
     "name": "stdout",
     "output_type": "stream",
     "text": [
      "2950 tweets con la keyword cripto registrados en DB\n",
      "3011 tweets con la keyword criptomoneda registrados en DB\n",
      "3053 tweets con la keyword criptomonedas registrados en DB\n",
      "5988 tweets con la keyword crypto registrados en DB\n",
      "6568 tweets con la keyword cryptocurrency registrados en DB\n",
      "6701 tweets con la keyword cryptocurrencies registrados en DB\n",
      "15874 tweets con la keyword bitcoin registrados en DB\n",
      "17354 tweets con la keyword BTC registrados en DB\n",
      "17892 tweets con la keyword $BTC registrados en DB\n",
      "18398 tweets con la keyword ethereum registrados en DB\n",
      "19305 tweets con la keyword ETH registrados en DB\n",
      "19853 tweets con la keyword $ETH registrados en DB\n",
      "21741 tweets con la keyword dogecoin registrados en DB\n",
      "23525 tweets con la keyword DOGE registrados en DB\n",
      "24149 tweets con la keyword $DOGE registrados en DB\n",
      "206362 tweets registrados en DB\n"
     ]
    }
   ],
   "source": [
    "nest_asyncio.apply()\n",
    "\n",
    "# Lista de palabras a buscar\n",
    "keywords = [\n",
    "        \"cripto\",\n",
    "        \"criptomoneda\",\n",
    "        \"criptomonedas\",\n",
    "        \"crypto\",\n",
    "        \"cryptocurrency\",\n",
    "        \"cryptocurrencies\",\n",
    "        \"bitcoin\",\n",
    "        \"BTC\",\n",
    "        \"$BTC\",\n",
    "        \"ethereum\",\n",
    "        \"ETH\",\n",
    "        \"$ETH\",\n",
    "        \"dogecoin\",\n",
    "        \"DOGE\",\n",
    "        \"$DOGE\",\n",
    "    ]\n",
    "\n",
    "# Inicializamos el scraper de Twitter\n",
    "config = twint.Config()\n",
    "\n",
    "# Excluimos retweets de la búsqueda\n",
    "config.Retweets = False\n",
    "\n",
    "# Mínimo de likes que deba tener un tweet para ser recuperado\n",
    "config.Min_likes = 1000\n",
    "\n",
    "# Fecha de inicio de recuperación de tweets\n",
    "config.Since = '2020-01-01'\n",
    "\n",
    "config.Hide_output = True\n",
    "config.Store_object = True\n",
    "\n",
    "lista_tweets = []\n",
    "\n",
    "for word in keywords:\n",
    "\n",
    "    # Seleccionamos la palabra clave a buscar\n",
    "    config.Search = word\n",
    "    \n",
    "    # Realizamos la búsqueda\n",
    "    twint.run.Search(config)\n",
    "    \n",
    "    # Recuperamos los resultados\n",
    "    tweets = twint.output.tweets_list\n",
    "    \n",
    "    # Procesamos los resultados\n",
    "    tweets_clean = [vars(Tweet(x.id, x.tweet, x.hashtags, x.cashtags,\n",
    "                               datetime.strptime(x.datestamp + x.timestamp + x.timezone, '%Y-%m-%d%H:%M:%S%z'),\n",
    "                               x.username, x.name, x.link, word, x.likes_count, x.retweets_count, x.replies_count)) for x in tweets]\n",
    "\n",
    "    lista_tweets.extend(tweets_clean)\n",
    "\n",
    "    # Añadimos a la lista de resultados\n",
    "    print(f'{len(tweets_clean)} tweets con la keyword {word} registrados en DB')\n",
    "\n",
    "# Guardamos en mongo\n",
    "db.tweetsCripto.insert_many(lista_tweets)\n",
    "\n",
    "print(f'{len(lista_tweets)} tweets registrados en DB')"
   ]
  },
  {
   "cell_type": "markdown",
   "source": [
    "### Query en MongoDB para obtener tweets sin repeticiones\n",
    "\n",
    "```\n",
    "db.tweetsCripto.aggregate([{\n",
    "    $group: {\n",
    "        _id: {\n",
    "            id: \"$id\"\n",
    "        },\n",
    "        cashtag: {\n",
    "            $first: \"$cashtag\"\n",
    "        },\n",
    "        fecha: {\n",
    "            $first: \"$fecha\"\n",
    "        },\n",
    "        hashtag: {\n",
    "            $first: \"$hashtag\"\n",
    "        },\n",
    "        likes: {\n",
    "            $first: \"$likes\"\n",
    "        },\n",
    "        link: {\n",
    "            $first: \"$link\"\n",
    "        },\n",
    "        name: {\n",
    "            $first: \"$name\"\n",
    "        },\n",
    "        replies: {\n",
    "            $first: \"$replies\"\n",
    "        },\n",
    "        retweets: {\n",
    "            $first: \"$retweets\"\n",
    "        },\n",
    "        tweet: {\n",
    "            $first: \"$tweet\"\n",
    "        },\n",
    "        user: {\n",
    "            $first: \"$user\"\n",
    "        },\n",
    "        search_keywords: {\n",
    "            $addToSet: \"$search\"\n",
    "        },\n",
    "        count: {\n",
    "            $sum: 1\n",
    "        }\n",
    "    }\n",
    "}])\n",
    "```"
   ],
   "metadata": {
    "collapsed": false
   }
  }
 ],
 "metadata": {
  "kernelspec": {
   "display_name": "Python 3",
   "language": "python",
   "name": "python3"
  },
  "language_info": {
   "codemirror_mode": {
    "name": "ipython",
    "version": 3
   },
   "file_extension": ".py",
   "mimetype": "text/x-python",
   "name": "python",
   "nbconvert_exporter": "python",
   "pygments_lexer": "ipython3",
   "version": "3.9.0"
  }
 },
 "nbformat": 4,
 "nbformat_minor": 1
}