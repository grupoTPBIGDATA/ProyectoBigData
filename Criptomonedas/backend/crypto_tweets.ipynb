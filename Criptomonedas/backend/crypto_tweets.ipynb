{
 "cells": [
  {
   "cell_type": "code",
   "execution_count": 13,
   "metadata": {},
   "outputs": [],
   "source": [
    "import nest_asyncio\n",
    "import twint\n",
    "from models import *\n",
    "from pymongo import MongoClient\n",
    "from pycoingecko import CoinGeckoAPI\n",
    "from datetime import datetime, timezone"
   ]
  },
  {
   "cell_type": "markdown",
   "metadata": {},
   "source": [
    "### Conectar con MongoDB"
   ]
  },
  {
   "cell_type": "code",
   "execution_count": 14,
   "metadata": {},
   "outputs": [],
   "source": [
    "mongo = MongoClient('2.tcp.ngrok.io:19533')\n",
    "\n",
    "db = mongo.proyectoBigData"
   ]
  },
  {
   "cell_type": "markdown",
   "metadata": {},
   "source": [
    "### Inicializar CoinGecko API Wrapper"
   ]
  },
  {
   "cell_type": "code",
   "execution_count": 15,
   "metadata": {},
   "outputs": [],
   "source": [
    "cg = CoinGeckoAPI()"
   ]
  },
  {
   "cell_type": "markdown",
   "metadata": {},
   "source": [
    "### Recuperar id, nombre y abreviación de las criptomonedas disponibles"
   ]
  },
  {
   "cell_type": "code",
   "execution_count": 16,
   "metadata": {},
   "outputs": [
    {
     "data": {
      "text/plain": "<pymongo.results.InsertManyResult at 0x2ab6c019d00>"
     },
     "execution_count": 16,
     "metadata": {},
     "output_type": "execute_result"
    }
   ],
   "source": [
    "criptocurrency_list = cg.get_coins_list()\n",
    "\n",
    "db.criptomonedas.insert_many(criptocurrency_list)"
   ]
  },
  {
   "cell_type": "markdown",
   "metadata": {},
   "source": [
    "### Recuperar historial de precios, capitalización de mercado y volumen de las criptomonedas seleccionadas"
   ]
  },
  {
   "cell_type": "code",
   "execution_count": 17,
   "metadata": {},
   "outputs": [],
   "source": [
    "# Definimos los tokens a buscar\n",
    "token_list = [\"bitcoin\", \"dogecoin\", \"ethereum\"]\n",
    "\n",
    "# Fecha desde la que se comienza a buscar\n",
    "from_date = datetime(2020, 1, 1)\n",
    "\n",
    "days_ago = (datetime.now() - from_date).days\n",
    "\n",
    "# intervalo entre cada recuperación de datos\n",
    "time_interval = 'daily'\n",
    "\n",
    "# moneda fíat con la que comparar el valor de las criptomonedas a buscar\n",
    "moneda_comparacion = 'usd'\n",
    "\n",
    "for token in token_list:\n",
    "    \n",
    "    # Recuperar historial de la criptomoneda\n",
    "    historial = cg.get_coin_market_chart_by_id(id=token, vs_currency=moneda_comparacion,\n",
    "                                               days=days_ago, interval=time_interval)\n",
    "    \n",
    "    # Histórico precios\n",
    "    price_list = [vars(Precio(token, x[1], datetime.fromtimestamp(x[0] / 1000, timezone.utc)))\n",
    "                  for x in  historial['prices']]\n",
    "    \n",
    "    db.priceHistory.insert_many(price_list)\n",
    "    \n",
    "    # Histórico de capitalización de mercado\n",
    "    market_cap_list = [vars(MarketCap(token, x[1], datetime.fromtimestamp(x[0] / 1000, timezone.utc)))\n",
    "                       for x in  historial['market_caps']]\n",
    "    \n",
    "    db.marketCapHistory.insert_many(market_cap_list)\n",
    "    \n",
    "    # Histórico de volumen de negociación\n",
    "    volume_list = [vars(Volume(token, x[1], datetime.fromtimestamp(x[0] / 1000, timezone.utc)))\n",
    "                   for x in  historial['total_volumes']]\n",
    "    \n",
    "    db.volumeHistory.insert_many(volume_list)"
   ]
  },
  {
   "cell_type": "markdown",
   "metadata": {},
   "source": [
    "### Recuperar tweets relacionados a criptomonedas"
   ]
  },
  {
   "cell_type": "code",
   "execution_count": 18,
   "metadata": {},
   "outputs": [
    {
     "ename": "KeyboardInterrupt",
     "evalue": "",
     "output_type": "error",
     "traceback": [
      "\u001B[1;31m---------------------------------------------------------------------------\u001B[0m",
      "\u001B[1;31mKeyboardInterrupt\u001B[0m                         Traceback (most recent call last)",
      "\u001B[1;32m<ipython-input-18-662a8d1b3521>\u001B[0m in \u001B[0;36m<module>\u001B[1;34m\u001B[0m\n\u001B[0;32m     40\u001B[0m \u001B[1;33m\u001B[0m\u001B[0m\n\u001B[0;32m     41\u001B[0m     \u001B[1;31m# Realizamos la búsqueda\u001B[0m\u001B[1;33m\u001B[0m\u001B[1;33m\u001B[0m\u001B[1;33m\u001B[0m\u001B[0m\n\u001B[1;32m---> 42\u001B[1;33m     \u001B[0mtwint\u001B[0m\u001B[1;33m.\u001B[0m\u001B[0mrun\u001B[0m\u001B[1;33m.\u001B[0m\u001B[0mSearch\u001B[0m\u001B[1;33m(\u001B[0m\u001B[0mconfig\u001B[0m\u001B[1;33m)\u001B[0m\u001B[1;33m\u001B[0m\u001B[1;33m\u001B[0m\u001B[0m\n\u001B[0m\u001B[0;32m     43\u001B[0m \u001B[1;33m\u001B[0m\u001B[0m\n\u001B[0;32m     44\u001B[0m     \u001B[1;31m# Recuperamos los resultados\u001B[0m\u001B[1;33m\u001B[0m\u001B[1;33m\u001B[0m\u001B[1;33m\u001B[0m\u001B[0m\n",
      "\u001B[1;32md:\\repos\\proyectobigdata\\criptomonedas\\backend\\venv\\lib\\site-packages\\twint\\run.py\u001B[0m in \u001B[0;36mSearch\u001B[1;34m(config, callback)\u001B[0m\n\u001B[0;32m    420\u001B[0m     \u001B[0mconfig\u001B[0m\u001B[1;33m.\u001B[0m\u001B[0mFollowers\u001B[0m \u001B[1;33m=\u001B[0m \u001B[1;32mFalse\u001B[0m\u001B[1;33m\u001B[0m\u001B[1;33m\u001B[0m\u001B[0m\n\u001B[0;32m    421\u001B[0m     \u001B[0mconfig\u001B[0m\u001B[1;33m.\u001B[0m\u001B[0mProfile\u001B[0m \u001B[1;33m=\u001B[0m \u001B[1;32mFalse\u001B[0m\u001B[1;33m\u001B[0m\u001B[1;33m\u001B[0m\u001B[0m\n\u001B[1;32m--> 422\u001B[1;33m     \u001B[0mrun\u001B[0m\u001B[1;33m(\u001B[0m\u001B[0mconfig\u001B[0m\u001B[1;33m,\u001B[0m \u001B[0mcallback\u001B[0m\u001B[1;33m)\u001B[0m\u001B[1;33m\u001B[0m\u001B[1;33m\u001B[0m\u001B[0m\n\u001B[0m\u001B[0;32m    423\u001B[0m     \u001B[1;32mif\u001B[0m \u001B[0mconfig\u001B[0m\u001B[1;33m.\u001B[0m\u001B[0mPandas_au\u001B[0m\u001B[1;33m:\u001B[0m\u001B[1;33m\u001B[0m\u001B[1;33m\u001B[0m\u001B[0m\n\u001B[0;32m    424\u001B[0m         \u001B[0mstorage\u001B[0m\u001B[1;33m.\u001B[0m\u001B[0mpanda\u001B[0m\u001B[1;33m.\u001B[0m\u001B[0m_autoget\u001B[0m\u001B[1;33m(\u001B[0m\u001B[1;34m\"tweet\"\u001B[0m\u001B[1;33m)\u001B[0m\u001B[1;33m\u001B[0m\u001B[1;33m\u001B[0m\u001B[0m\n",
      "\u001B[1;32md:\\repos\\proyectobigdata\\criptomonedas\\backend\\venv\\lib\\site-packages\\twint\\run.py\u001B[0m in \u001B[0;36mrun\u001B[1;34m(config, callback, twint_class)\u001B[0m\n\u001B[0;32m    332\u001B[0m     \u001B[1;32mif\u001B[0m \u001B[1;32mnot\u001B[0m \u001B[0mtwint_class\u001B[0m\u001B[1;33m:\u001B[0m\u001B[1;33m\u001B[0m\u001B[1;33m\u001B[0m\u001B[0m\n\u001B[0;32m    333\u001B[0m         \u001B[0mtwint_class\u001B[0m \u001B[1;33m=\u001B[0m \u001B[0mTwint\u001B[0m\u001B[1;33m(\u001B[0m\u001B[0mconfig\u001B[0m\u001B[1;33m)\u001B[0m\u001B[1;33m\u001B[0m\u001B[1;33m\u001B[0m\u001B[0m\n\u001B[1;32m--> 334\u001B[1;33m     \u001B[0mget_event_loop\u001B[0m\u001B[1;33m(\u001B[0m\u001B[1;33m)\u001B[0m\u001B[1;33m.\u001B[0m\u001B[0mrun_until_complete\u001B[0m\u001B[1;33m(\u001B[0m\u001B[0mtwint_class\u001B[0m\u001B[1;33m.\u001B[0m\u001B[0mmain\u001B[0m\u001B[1;33m(\u001B[0m\u001B[0mcallback\u001B[0m\u001B[1;33m)\u001B[0m\u001B[1;33m)\u001B[0m\u001B[1;33m\u001B[0m\u001B[1;33m\u001B[0m\u001B[0m\n\u001B[0m\u001B[0;32m    335\u001B[0m     \u001B[1;32mreturn\u001B[0m \u001B[0mtwint_class\u001B[0m\u001B[1;33m\u001B[0m\u001B[1;33m\u001B[0m\u001B[0m\n\u001B[0;32m    336\u001B[0m \u001B[1;33m\u001B[0m\u001B[0m\n",
      "\u001B[1;32md:\\repos\\proyectobigdata\\criptomonedas\\backend\\venv\\lib\\site-packages\\nest_asyncio.py\u001B[0m in \u001B[0;36mrun_until_complete\u001B[1;34m(self, future)\u001B[0m\n\u001B[0;32m     62\u001B[0m                 \u001B[0mf\u001B[0m\u001B[1;33m.\u001B[0m\u001B[0m_log_destroy_pending\u001B[0m \u001B[1;33m=\u001B[0m \u001B[1;32mFalse\u001B[0m\u001B[1;33m\u001B[0m\u001B[1;33m\u001B[0m\u001B[0m\n\u001B[0;32m     63\u001B[0m             \u001B[1;32mwhile\u001B[0m \u001B[1;32mnot\u001B[0m \u001B[0mf\u001B[0m\u001B[1;33m.\u001B[0m\u001B[0mdone\u001B[0m\u001B[1;33m(\u001B[0m\u001B[1;33m)\u001B[0m\u001B[1;33m:\u001B[0m\u001B[1;33m\u001B[0m\u001B[1;33m\u001B[0m\u001B[0m\n\u001B[1;32m---> 64\u001B[1;33m                 \u001B[0mself\u001B[0m\u001B[1;33m.\u001B[0m\u001B[0m_run_once\u001B[0m\u001B[1;33m(\u001B[0m\u001B[1;33m)\u001B[0m\u001B[1;33m\u001B[0m\u001B[1;33m\u001B[0m\u001B[0m\n\u001B[0m\u001B[0;32m     65\u001B[0m                 \u001B[1;32mif\u001B[0m \u001B[0mself\u001B[0m\u001B[1;33m.\u001B[0m\u001B[0m_stopping\u001B[0m\u001B[1;33m:\u001B[0m\u001B[1;33m\u001B[0m\u001B[1;33m\u001B[0m\u001B[0m\n\u001B[0;32m     66\u001B[0m                     \u001B[1;32mbreak\u001B[0m\u001B[1;33m\u001B[0m\u001B[1;33m\u001B[0m\u001B[0m\n",
      "\u001B[1;32md:\\repos\\proyectobigdata\\criptomonedas\\backend\\venv\\lib\\site-packages\\nest_asyncio.py\u001B[0m in \u001B[0;36m_run_once\u001B[1;34m(self)\u001B[0m\n\u001B[0;32m     85\u001B[0m             \u001B[1;32melse\u001B[0m \u001B[0mmin\u001B[0m\u001B[1;33m(\u001B[0m\u001B[0mmax\u001B[0m\u001B[1;33m(\u001B[0m\u001B[0mscheduled\u001B[0m\u001B[1;33m[\u001B[0m\u001B[1;36m0\u001B[0m\u001B[1;33m]\u001B[0m\u001B[1;33m.\u001B[0m\u001B[0m_when\u001B[0m \u001B[1;33m-\u001B[0m \u001B[0mnow\u001B[0m\u001B[1;33m,\u001B[0m \u001B[1;36m0\u001B[0m\u001B[1;33m)\u001B[0m\u001B[1;33m,\u001B[0m \u001B[1;36m86400\u001B[0m\u001B[1;33m)\u001B[0m \u001B[1;32mif\u001B[0m \u001B[0mscheduled\u001B[0m\u001B[1;33m\u001B[0m\u001B[1;33m\u001B[0m\u001B[0m\n\u001B[0;32m     86\u001B[0m             else None)\n\u001B[1;32m---> 87\u001B[1;33m         \u001B[0mevent_list\u001B[0m \u001B[1;33m=\u001B[0m \u001B[0mself\u001B[0m\u001B[1;33m.\u001B[0m\u001B[0m_selector\u001B[0m\u001B[1;33m.\u001B[0m\u001B[0mselect\u001B[0m\u001B[1;33m(\u001B[0m\u001B[0mtimeout\u001B[0m\u001B[1;33m)\u001B[0m\u001B[1;33m\u001B[0m\u001B[1;33m\u001B[0m\u001B[0m\n\u001B[0m\u001B[0;32m     88\u001B[0m         \u001B[0mself\u001B[0m\u001B[1;33m.\u001B[0m\u001B[0m_process_events\u001B[0m\u001B[1;33m(\u001B[0m\u001B[0mevent_list\u001B[0m\u001B[1;33m)\u001B[0m\u001B[1;33m\u001B[0m\u001B[1;33m\u001B[0m\u001B[0m\n\u001B[0;32m     89\u001B[0m \u001B[1;33m\u001B[0m\u001B[0m\n",
      "\u001B[1;32mC:\\Python39\\lib\\selectors.py\u001B[0m in \u001B[0;36mselect\u001B[1;34m(self, timeout)\u001B[0m\n\u001B[0;32m    322\u001B[0m         \u001B[0mready\u001B[0m \u001B[1;33m=\u001B[0m \u001B[1;33m[\u001B[0m\u001B[1;33m]\u001B[0m\u001B[1;33m\u001B[0m\u001B[1;33m\u001B[0m\u001B[0m\n\u001B[0;32m    323\u001B[0m         \u001B[1;32mtry\u001B[0m\u001B[1;33m:\u001B[0m\u001B[1;33m\u001B[0m\u001B[1;33m\u001B[0m\u001B[0m\n\u001B[1;32m--> 324\u001B[1;33m             \u001B[0mr\u001B[0m\u001B[1;33m,\u001B[0m \u001B[0mw\u001B[0m\u001B[1;33m,\u001B[0m \u001B[0m_\u001B[0m \u001B[1;33m=\u001B[0m \u001B[0mself\u001B[0m\u001B[1;33m.\u001B[0m\u001B[0m_select\u001B[0m\u001B[1;33m(\u001B[0m\u001B[0mself\u001B[0m\u001B[1;33m.\u001B[0m\u001B[0m_readers\u001B[0m\u001B[1;33m,\u001B[0m \u001B[0mself\u001B[0m\u001B[1;33m.\u001B[0m\u001B[0m_writers\u001B[0m\u001B[1;33m,\u001B[0m \u001B[1;33m[\u001B[0m\u001B[1;33m]\u001B[0m\u001B[1;33m,\u001B[0m \u001B[0mtimeout\u001B[0m\u001B[1;33m)\u001B[0m\u001B[1;33m\u001B[0m\u001B[1;33m\u001B[0m\u001B[0m\n\u001B[0m\u001B[0;32m    325\u001B[0m         \u001B[1;32mexcept\u001B[0m \u001B[0mInterruptedError\u001B[0m\u001B[1;33m:\u001B[0m\u001B[1;33m\u001B[0m\u001B[1;33m\u001B[0m\u001B[0m\n\u001B[0;32m    326\u001B[0m             \u001B[1;32mreturn\u001B[0m \u001B[0mready\u001B[0m\u001B[1;33m\u001B[0m\u001B[1;33m\u001B[0m\u001B[0m\n",
      "\u001B[1;32mC:\\Python39\\lib\\selectors.py\u001B[0m in \u001B[0;36m_select\u001B[1;34m(self, r, w, _, timeout)\u001B[0m\n\u001B[0;32m    313\u001B[0m     \u001B[1;32mif\u001B[0m \u001B[0msys\u001B[0m\u001B[1;33m.\u001B[0m\u001B[0mplatform\u001B[0m \u001B[1;33m==\u001B[0m \u001B[1;34m'win32'\u001B[0m\u001B[1;33m:\u001B[0m\u001B[1;33m\u001B[0m\u001B[1;33m\u001B[0m\u001B[0m\n\u001B[0;32m    314\u001B[0m         \u001B[1;32mdef\u001B[0m \u001B[0m_select\u001B[0m\u001B[1;33m(\u001B[0m\u001B[0mself\u001B[0m\u001B[1;33m,\u001B[0m \u001B[0mr\u001B[0m\u001B[1;33m,\u001B[0m \u001B[0mw\u001B[0m\u001B[1;33m,\u001B[0m \u001B[0m_\u001B[0m\u001B[1;33m,\u001B[0m \u001B[0mtimeout\u001B[0m\u001B[1;33m=\u001B[0m\u001B[1;32mNone\u001B[0m\u001B[1;33m)\u001B[0m\u001B[1;33m:\u001B[0m\u001B[1;33m\u001B[0m\u001B[1;33m\u001B[0m\u001B[0m\n\u001B[1;32m--> 315\u001B[1;33m             \u001B[0mr\u001B[0m\u001B[1;33m,\u001B[0m \u001B[0mw\u001B[0m\u001B[1;33m,\u001B[0m \u001B[0mx\u001B[0m \u001B[1;33m=\u001B[0m \u001B[0mselect\u001B[0m\u001B[1;33m.\u001B[0m\u001B[0mselect\u001B[0m\u001B[1;33m(\u001B[0m\u001B[0mr\u001B[0m\u001B[1;33m,\u001B[0m \u001B[0mw\u001B[0m\u001B[1;33m,\u001B[0m \u001B[0mw\u001B[0m\u001B[1;33m,\u001B[0m \u001B[0mtimeout\u001B[0m\u001B[1;33m)\u001B[0m\u001B[1;33m\u001B[0m\u001B[1;33m\u001B[0m\u001B[0m\n\u001B[0m\u001B[0;32m    316\u001B[0m             \u001B[1;32mreturn\u001B[0m \u001B[0mr\u001B[0m\u001B[1;33m,\u001B[0m \u001B[0mw\u001B[0m \u001B[1;33m+\u001B[0m \u001B[0mx\u001B[0m\u001B[1;33m,\u001B[0m \u001B[1;33m[\u001B[0m\u001B[1;33m]\u001B[0m\u001B[1;33m\u001B[0m\u001B[1;33m\u001B[0m\u001B[0m\n\u001B[0;32m    317\u001B[0m     \u001B[1;32melse\u001B[0m\u001B[1;33m:\u001B[0m\u001B[1;33m\u001B[0m\u001B[1;33m\u001B[0m\u001B[0m\n",
      "\u001B[1;31mKeyboardInterrupt\u001B[0m: "
     ]
    }
   ],
   "source": [
    "nest_asyncio.apply()\n",
    "\n",
    "# Lista de palabras a buscar\n",
    "keywords = [\n",
    "        \"cripto\",\n",
    "        \"criptomoneda\",\n",
    "        \"criptomonedas\",\n",
    "        \"crypto\",\n",
    "        \"cryptocurrency\",\n",
    "        \"cryptocurrencies\",\n",
    "        \"bitcoin\",\n",
    "        \"BTC\",\n",
    "        \"$BTC\",\n",
    "        \"ethereum\",\n",
    "        \"ETH\",\n",
    "        \"$ETH\"\n",
    "        \"dogecoin\",\n",
    "        \"DOGE\",\n",
    "        \"$DOGE\",\n",
    "    ]\n",
    "\n",
    "# Inicializamos el scraper de Twitter\n",
    "config = twint.Config()\n",
    "\n",
    "# Excluimos retweets de la búsqueda\n",
    "config.Retweets = False\n",
    "\n",
    "# Mínimo de likes que deba tener un tweet para ser recuperado\n",
    "config.Min_likes = 5000\n",
    "\n",
    "config.Hide_output = True\n",
    "config.Store_object = True\n",
    "\n",
    "lista_tweets = []\n",
    "\n",
    "for word in keywords:\n",
    "\n",
    "    # Seleccionamos la palabra clave a buscar\n",
    "    config.Search = word\n",
    "    \n",
    "    # Realizamos la búsqueda\n",
    "    twint.run.Search(config)\n",
    "    \n",
    "    # Recuperamos los resultados\n",
    "    tweets = twint.output.tweets_list\n",
    "    \n",
    "    # Procesamos los resultados\n",
    "    tweets_clean = [vars(Tweet(x.id, x.tweet, x.hashtags, x.cashtags,\n",
    "                               datetime.strptime(x.datestamp + x.timestamp + x.timezone, '%Y-%m-%d%H:%M:%S%z'),\n",
    "                               x.username, x.name, x.link, word)) for x in tweets]\n",
    "    \n",
    "    # Añadimos a la lista de resultados\n",
    "    lista_tweets.extend(tweets_clean)\n",
    "\n",
    "# Guardamos en mongo\n",
    "db.tweetsCripto.insert_many(lista_tweets)"
   ]
  }
 ],
 "metadata": {
  "kernelspec": {
   "display_name": "Python 3",
   "language": "python",
   "name": "python3"
  },
  "language_info": {
   "codemirror_mode": {
    "name": "ipython",
    "version": 3
   },
   "file_extension": ".py",
   "mimetype": "text/x-python",
   "name": "python",
   "nbconvert_exporter": "python",
   "pygments_lexer": "ipython3",
   "version": "3.9.0"
  }
 },
 "nbformat": 4,
 "nbformat_minor": 1
}